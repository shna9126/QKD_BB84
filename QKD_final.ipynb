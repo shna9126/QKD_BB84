{
 "cells": [
  {
   "cell_type": "code",
   "execution_count": 15,
   "id": "f944eca4-e439-4542-b703-cdbea53ff12d",
   "metadata": {},
   "outputs": [],
   "source": [
    "%matplotlib inline"
   ]
  },
  {
   "cell_type": "code",
   "execution_count": 7,
   "id": "02845e42-41af-4b41-a7b7-e1a15a9d27f9",
   "metadata": {},
   "outputs": [
    {
     "name": "stdout",
     "output_type": "stream",
     "text": [
      "Found existing installation: qiskit-aer 0.15.1\n",
      "Uninstalling qiskit-aer-0.15.1:\n",
      "  Successfully uninstalled qiskit-aer-0.15.1\n",
      "Found existing installation: qiskit-terra 0.46.0\n",
      "Uninstalling qiskit-terra-0.46.0:\n",
      "  Successfully uninstalled qiskit-terra-0.46.0\n",
      "\u001b[33mWARNING: Skipping qiskit-ignis as it is not installed.\u001b[0m\u001b[33m\n",
      "\u001b[0m\u001b[33mWARNING: Skipping qiskit-visualization as it is not installed.\u001b[0m\u001b[33m\n",
      "\u001b[0m"
     ]
    }
   ],
   "source": [
    "!pip uninstall qiskit-aer qiskit-terra qiskit-ignis qiskit-visualization -y"
   ]
  },
  {
   "cell_type": "code",
   "execution_count": null,
   "id": "6b67663b-20e4-4780-ac41-97cdcbcc0a26",
   "metadata": {},
   "outputs": [],
   "source": []
  },
  {
   "cell_type": "code",
   "execution_count": 5,
   "id": "faffa0e1-1ed0-4738-b1e8-d4cf1c4102b3",
   "metadata": {},
   "outputs": [
    {
     "name": "stdout",
     "output_type": "stream",
     "text": [
      "\u001b[33mWARNING: Skipping qiskit-y as it is not installed.\u001b[0m\u001b[33m\n",
      "\u001b[0m"
     ]
    }
   ],
   "source": [
    "!pip uninstall qiskit-y"
   ]
  },
  {
   "cell_type": "code",
   "execution_count": null,
   "id": "9d828f2f-6839-4386-bd58-5280cc01e8e2",
   "metadata": {},
   "outputs": [],
   "source": [
    "!pip list"
   ]
  },
  {
   "cell_type": "code",
   "execution_count": 11,
   "id": "301f925e-5a05-4f85-a23f-13aded284448",
   "metadata": {},
   "outputs": [],
   "source": [
    "from qiskit import QuantumCircuit,assemble\n",
    "from qiskit_aer import Aer"
   ]
  },
  {
   "cell_type": "code",
   "execution_count": null,
   "id": "f577e1e1-99d9-4b16-af65-45528bfc703b",
   "metadata": {},
   "outputs": [],
   "source": [
    "!pip install qiskit-aer"
   ]
  },
  {
   "cell_type": "code",
   "execution_count": 10,
   "id": "2f184f94-9d52-4cb3-b310-215d924884cf",
   "metadata": {},
   "outputs": [
    {
     "name": "stdout",
     "output_type": "stream",
     "text": [
      "1.2.4\n"
     ]
    }
   ],
   "source": [
    "import qiskit\n",
    "print(qiskit.__version__)"
   ]
  },
  {
   "cell_type": "code",
   "execution_count": 12,
   "id": "24faeebd-80c1-447f-91ee-247aca45178c",
   "metadata": {},
   "outputs": [],
   "source": [
    "#from qiskit.execute import execute, assemble\n",
    "from qiskit.visualization import plot_histogram\n",
    "import numpy as np"
   ]
  },
  {
   "cell_type": "code",
   "execution_count": 4,
   "id": "f391f3d1-5e10-406d-a450-eaf322717935",
   "metadata": {},
   "outputs": [
    {
     "name": "stdout",
     "output_type": "stream",
     "text": [
      "Channels:\n",
      " - defaults\n",
      "Platform: osx-arm64\n",
      "Collecting package metadata (repodata.json): done\n",
      "Solving environment: done\n",
      "\n",
      "# All requested packages already installed.\n",
      "\n",
      "\n",
      "Note: you may need to restart the kernel to use updated packages.\n"
     ]
    }
   ],
   "source": [
    "conda install ipykernel"
   ]
  },
  {
   "cell_type": "code",
   "execution_count": 5,
   "id": "7bc3d164-75f4-4072-9519-cc40166ca868",
   "metadata": {},
   "outputs": [
    {
     "name": "stdout",
     "output_type": "stream",
     "text": [
      "Installed kernelspec qkd_env in /Users/shivam/Library/Jupyter/kernels/qkd_env\n"
     ]
    }
   ],
   "source": [
    "!python -m ipykernel install --user --name=qkd_env --display-name \"Python (qkd_env)\""
   ]
  },
  {
   "cell_type": "code",
   "execution_count": null,
   "id": "8a26bcef-7d7e-439e-ad8e-65ca3031e4cd",
   "metadata": {},
   "outputs": [],
   "source": [
    "conda install matplotlib "
   ]
  },
  {
   "cell_type": "code",
   "execution_count": 16,
   "id": "933c5153-e4e6-4273-ae7e-fd594a22586a",
   "metadata": {},
   "outputs": [
    {
     "name": "stdout",
     "output_type": "stream",
     "text": [
      "module://matplotlib_inline.backend_inline\n"
     ]
    }
   ],
   "source": [
    "import matplotlib\n",
    "print(matplotlib.get_backend())"
   ]
  },
  {
   "cell_type": "code",
   "execution_count": 43,
   "id": "6d9cb1c8-1345-4ff7-ac17-b0e5644eb248",
   "metadata": {},
   "outputs": [
    {
     "name": "stdout",
     "output_type": "stream",
     "text": [
      "Measurement results: {'01': 270, '00': 235, '11': 277, '10': 242}\n"
     ]
    },
    {
     "name": "stderr",
     "output_type": "stream",
     "text": [
      "/var/folders/zp/_4t4c89s6xgf0z8b9dhl5_dc0000gn/T/ipykernel_7668/1043905585.py:34: FutureWarning: \n",
      "\n",
      "Passing `palette` without assigning `hue` is deprecated and will be removed in v0.14.0. Assign the `x` variable to `hue` and set `legend=False` for the same effect.\n",
      "\n",
      "  sns.barplot(x=list(labels), y=list(values), palette='pastel')\n"
     ]
    },
    {
     "data": {
      "image/png": "[encoded data removed]",
      "text/plain": [
       "<Figure size 640x480 with 1 Axes>"
      ]
     },
     "metadata": {},
     "output_type": "display_data"
    }
   ],
   "source": [
    "from qiskit import QuantumCircuit, transpile\n",
    "from qiskit_aer import Aer\n",
    "from qiskit.visualization import plot_histogram\n",
    "import matplotlib.pyplot as plt\n",
    "\n",
    "# Ensure plots are displayed inline in Jupyter Notebook\n",
    "%matplotlib inline\n",
    "\n",
    "def simulate_circuit(qc):\n",
    "    # Use the QASM simulator backend\n",
    "    simulator = Aer.get_backend('qasm_simulator')\n",
    "    \n",
    "    # Transpile the circuit for the simulator\n",
    "    transpiled_circuit = transpile(qc, simulator)\n",
    "    \n",
    "    # Run the circuit on the simulator\n",
    "    job = simulator.run(transpiled_circuit, shots=1024)\n",
    "    \n",
    "    # Get the results from the job\n",
    "    result = job.result()\n",
    "    \n",
    "    # Retrieve counts from the result\n",
    "    counts = result.get_counts(qc)\n",
    "    \n",
    "\n",
    "    return counts\n",
    "\n",
    "import seaborn as sns\n",
    "\n",
    "def plot_results_seaborn(counts):\n",
    "    \"\"\"Function to plot histogram using Seaborn.\"\"\"\n",
    "    # Convert counts to a format suitable for seaborn\n",
    "    labels, values = zip(*counts.items())\n",
    "    sns.barplot(x=list(labels), y=list(values), palette='pastel')\n",
    "    plt.title('Measurement Results')\n",
    "    plt.xlabel('States')\n",
    "    plt.ylabel('Counts')\n",
    "    plt.show()\n",
    "\n",
    "def qkd_protocol():\n",
    "    # Create a quantum circuit with 2 qubits (Alice and Bob)\n",
    "    qc = QuantumCircuit(2, 2)  # 2 qubits and 2 classical bits\n",
    "\n",
    "    # Alice prepares her qubit in a random state\n",
    "    qc.h(0)  # Apply Hadamard gate to create superposition\n",
    "    qc.h(1)  # Optional: Bob can also apply a Hadamard gate\n",
    "\n",
    "    # Measure both qubits\n",
    "    qc.measure(0, 0)  # Measure Alice's qubit\n",
    "    qc.measure(1, 1)  # Measure Bob's qubit\n",
    "\n",
    "    # Call the simulate_circuit function\n",
    "    counts = simulate_circuit(qc)\n",
    "\n",
    "    # Print the measurement results\n",
    "    print(\"Measurement results:\", counts)\n",
    "\n",
    "   \n",
    "    plot_results_seaborn(counts)  # or plot_results_plotly(counts), etc.\n",
    "\n",
    "# Run the QKD protocol simulation\n",
    "qkd_protocol()"
   ]
  },
  {
   "cell_type": "markdown",
   "id": "ab90008f-db9b-40ce-9a00-dc14d38a2457",
   "metadata": {},
   "source": [
    "Implementing BB84 protocol"
   ]
  },
  {
   "cell_type": "code",
   "execution_count": 41,
   "id": "8e783645-1e70-427b-8423-39cd0410eb22",
   "metadata": {},
   "outputs": [
    {
     "name": "stdout",
     "output_type": "stream",
     "text": [
      "Collecting seaborn\n",
      "  Downloading seaborn-0.13.2-py3-none-any.whl.metadata (5.4 kB)\n",
      "Requirement already satisfied: numpy!=1.24.0,>=1.20 in /opt/anaconda3/envs/qkd_env/lib/python3.9/site-packages (from seaborn) (1.26.4)\n",
      "Collecting pandas>=1.2 (from seaborn)\n",
      "  Downloading pandas-2.2.3-cp39-cp39-macosx_11_0_arm64.whl.metadata (89 kB)\n",
      "Requirement already satisfied: matplotlib!=3.6.1,>=3.4 in /opt/anaconda3/envs/qkd_env/lib/python3.9/site-packages (from seaborn) (3.9.2)\n",
      "Requirement already satisfied: contourpy>=1.0.1 in /opt/anaconda3/envs/qkd_env/lib/python3.9/site-packages (from matplotlib!=3.6.1,>=3.4->seaborn) (1.2.0)\n",
      "Requirement already satisfied: cycler>=0.10 in /opt/anaconda3/envs/qkd_env/lib/python3.9/site-packages (from matplotlib!=3.6.1,>=3.4->seaborn) (0.11.0)\n",
      "Requirement already satisfied: fonttools>=4.22.0 in /opt/anaconda3/envs/qkd_env/lib/python3.9/site-packages (from matplotlib!=3.6.1,>=3.4->seaborn) (4.51.0)\n",
      "Requirement already satisfied: kiwisolver>=1.3.1 in /opt/anaconda3/envs/qkd_env/lib/python3.9/site-packages (from matplotlib!=3.6.1,>=3.4->seaborn) (1.4.4)\n",
      "Requirement already satisfied: packaging>=20.0 in /opt/anaconda3/envs/qkd_env/lib/python3.9/site-packages (from matplotlib!=3.6.1,>=3.4->seaborn) (24.1)\n",
      "Requirement already satisfied: pillow>=8 in /opt/anaconda3/envs/qkd_env/lib/python3.9/site-packages (from matplotlib!=3.6.1,>=3.4->seaborn) (10.4.0)\n",
      "Requirement already satisfied: pyparsing>=2.3.1 in /opt/anaconda3/envs/qkd_env/lib/python3.9/site-packages (from matplotlib!=3.6.1,>=3.4->seaborn) (3.1.2)\n",
      "Requirement already satisfied: python-dateutil>=2.7 in /opt/anaconda3/envs/qkd_env/lib/python3.9/site-packages (from matplotlib!=3.6.1,>=3.4->seaborn) (2.9.0.post0)\n",
      "Requirement already satisfied: importlib-resources>=3.2.0 in /opt/anaconda3/envs/qkd_env/lib/python3.9/site-packages (from matplotlib!=3.6.1,>=3.4->seaborn) (6.4.0)\n",
      "Requirement already satisfied: pytz>=2020.1 in /opt/anaconda3/envs/qkd_env/lib/python3.9/site-packages (from pandas>=1.2->seaborn) (2024.1)\n",
      "Collecting tzdata>=2022.7 (from pandas>=1.2->seaborn)\n",
      "  Downloading tzdata-2024.2-py2.py3-none-any.whl.metadata (1.4 kB)\n",
      "Requirement already satisfied: zipp>=3.1.0 in /opt/anaconda3/envs/qkd_env/lib/python3.9/site-packages (from importlib-resources>=3.2.0->matplotlib!=3.6.1,>=3.4->seaborn) (3.20.2)\n",
      "Requirement already satisfied: six>=1.5 in /opt/anaconda3/envs/qkd_env/lib/python3.9/site-packages (from python-dateutil>=2.7->matplotlib!=3.6.1,>=3.4->seaborn) (1.16.0)\n",
      "Downloading seaborn-0.13.2-py3-none-any.whl (294 kB)\n",
      "Downloading pandas-2.2.3-cp39-cp39-macosx_11_0_arm64.whl (11.3 MB)\n",
      "\u001b[2K   \u001b[90m━━━━━━━━━━━━━━━━━━━━━━━━━━━━━━━━━━━━━━━━\u001b[0m \u001b[32m11.3/11.3 MB\u001b[0m \u001b[31m1.1 MB/s\u001b[0m eta \u001b[36m0:00:00\u001b[0ma \u001b[36m0:00:01\u001b[0m\n",
      "\u001b[?25hDownloading tzdata-2024.2-py2.py3-none-any.whl (346 kB)\n",
      "Installing collected packages: tzdata, pandas, seaborn\n",
      "Successfully installed pandas-2.2.3 seaborn-0.13.2 tzdata-2024.2\n"
     ]
    }
   ],
   "source": [
    "!pip install seaborn"
   ]
  },
  {
   "cell_type": "code",
   "execution_count": 43,
   "id": "d64c4abc-959d-4d58-9480-4709eeabf52e",
   "metadata": {},
   "outputs": [
    {
     "name": "stdout",
     "output_type": "stream",
     "text": [
      "Measurement results: {'10': 494, '00': 530}\n",
      "Alice's basis: Computational\n",
      "Bob's basis: Hadamard\n"
     ]
    },
    {
     "name": "stderr",
     "output_type": "stream",
     "text": [
      "/var/folders/zp/_4t4c89s6xgf0z8b9dhl5_dc0000gn/T/ipykernel_7668/2175108261.py:35: FutureWarning: \n",
      "\n",
      "Passing `palette` without assigning `hue` is deprecated and will be removed in v0.14.0. Assign the `x` variable to `hue` and set `legend=False` for the same effect.\n",
      "\n",
      "  sns.barplot(x=list(labels), y=list(values), palette='pastel')\n"
     ]
    },
    {
     "data": {
      "image/png": "[encoded data removed]",
      "text/plain": [
       "<Figure size 640x480 with 1 Axes>"
      ]
     },
     "metadata": {},
     "output_type": "display_data"
    }
   ],
   "source": [
    "from qiskit import QuantumCircuit, transpile\n",
    "from qiskit_aer import Aer\n",
    "from qiskit.visualization import plot_histogram\n",
    "import matplotlib.pyplot as plt\n",
    "import random\n",
    "\n",
    "# Ensure plots are displayed inline in Jupyter Notebook\n",
    "%matplotlib inline\n",
    "\n",
    "def simulate_circuit(qc):\n",
    "    # Use the QASM simulator backend\n",
    "    simulator = Aer.get_backend('qasm_simulator')\n",
    "    \n",
    "    # Transpile the circuit for the simulator\n",
    "    transpiled_circuit = transpile(qc, simulator)\n",
    "    \n",
    "    # Run the circuit on the simulator\n",
    "    job = simulator.run(transpiled_circuit, shots=1024)\n",
    "    \n",
    "    # Get the results from the job\n",
    "    result = job.result()\n",
    "    \n",
    "    # Retrieve counts from the result\n",
    "    counts = result.get_counts(qc)\n",
    "    \n",
    "    return counts\n",
    "\n",
    "\n",
    "import seaborn as sns\n",
    "\n",
    "def plot_results_seaborn(counts):\n",
    "    \"\"\"Function to plot histogram using Seaborn.\"\"\"\n",
    "    # Convert counts to a format suitable for seaborn\n",
    "    labels, values = zip(*counts.items())\n",
    "    sns.barplot(x=list(labels), y=list(values), palette='pastel')\n",
    "    plt.title('Measurement Results')\n",
    "    plt.xlabel('States')\n",
    "    plt.ylabel('Counts')\n",
    "    plt.show()\n",
    "    \n",
    "def qkd_protocol():\n",
    "    # Create a quantum circuit with 2 qubits (Alice and Bob)\n",
    "    qc = QuantumCircuit(2, 2)  # 2 qubits and 2 classical bits\n",
    "\n",
    "    # Alice randomly chooses a basis (0 for computational, 1 for Hadamard)\n",
    "    alice_basis = random.choice([0, 1])\n",
    "    bob_basis = random.choice([0, 1])\n",
    "\n",
    "    if alice_basis == 1:\n",
    "        qc.h(0)  # Alice applies Hadamard if chosen\n",
    "    \n",
    "    if bob_basis == 1:\n",
    "        qc.h(1)  # Bob applies Hadamard if chosen\n",
    "\n",
    "    # Measure both qubits\n",
    "    qc.measure(0, 0)  # Measure Alice's qubit\n",
    "    qc.measure(1, 1)  # Measure Bob's qubit\n",
    "\n",
    "    # Call the simulate_circuit function\n",
    "    counts = simulate_circuit(qc)\n",
    "\n",
    "    # Print the measurement results\n",
    "    print(\"Measurement results:\", counts)\n",
    "    print(\"Alice's basis:\", \"Hadamard\" if alice_basis else \"Computational\")\n",
    "    print(\"Bob's basis:\", \"Hadamard\" if bob_basis else \"Computational\")\n",
    "\n",
    "    # Plot the results using the separate function\n",
    "    plot_results_seaborn(counts)\n",
    "\n",
    "# Run the QKD protocol simulation\n",
    "qkd_protocol()"
   ]
  },
  {
   "cell_type": "markdown",
   "id": "c8054e30-966b-4cb1-9e4e-1a80a6431343",
   "metadata": {},
   "source": [
    "Implementing Eavesdropper"
   ]
  },
  {
   "cell_type": "code",
   "execution_count": 60,
   "id": "2ecd3135-ed30-48e2-a67a-aafb0942eee5",
   "metadata": {},
   "outputs": [
    {
     "name": "stdout",
     "output_type": "stream",
     "text": [
      "Aggregated Measurement results: {'000': 38481, '010': 12719}\n",
      "Example of runs completed: 50\n"
     ]
    },
    {
     "name": "stderr",
     "output_type": "stream",
     "text": [
      "/var/folders/zp/_4t4c89s6xgf0z8b9dhl5_dc0000gn/T/ipykernel_7668/553216816.py:13: FutureWarning: \n",
      "\n",
      "Passing `palette` without assigning `hue` is deprecated and will be removed in v0.14.0. Assign the `x` variable to `hue` and set `legend=False` for the same effect.\n",
      "\n",
      "  sns.barplot(data=df, x='States', y='Counts', palette='pastel')\n"
     ]
    },
    {
     "data": {
      "image/png": "[encoded data removed]",
      "text/plain": [
       "<Figure size 640x480 with 1 Axes>"
      ]
     },
     "metadata": {},
     "output_type": "display_data"
    }
   ],
   "source": [
    "import random\n",
    "import matplotlib.pyplot as plt\n",
    "import seaborn as sns\n",
    "import pandas as pd\n",
    "from qiskit import QuantumCircuit, transpile\n",
    "from qiskit_aer import Aer\n",
    "\n",
    "def plot_results_seaborn(counts):\n",
    "    \"\"\"Function to plot histogram using Seaborn.\"\"\"\n",
    "    labels, values = zip(*counts.items())\n",
    "    data = {'States': labels, 'Counts': values}\n",
    "    df = pd.DataFrame(data)\n",
    "    sns.barplot(data=df, x='States', y='Counts', palette='pastel')\n",
    "    plt.title('Aggregated Measurement Results')\n",
    "    plt.xlabel('States')\n",
    "    plt.ylabel('Counts')\n",
    "    plt.show()\n",
    "\n",
    "def simulate_circuit(qc):\n",
    "    \"\"\"Simulate the quantum circuit and return measurement results.\"\"\"\n",
    "    backend = Aer.get_backend('qasm_simulator')\n",
    "    transpiled_qc = transpile(qc, backend)\n",
    "    # Run the transpiled circuit directly\n",
    "    result = backend.run(transpiled_qc, shots=1024).result()\n",
    "    return result.get_counts()\n",
    "\n",
    "def qkd_protocol_with_eavesdropping(num_runs=10):\n",
    "    total_counts = {}\n",
    "\n",
    "    for _ in range(num_runs):\n",
    "        qc = QuantumCircuit(3, 3)  # 3 qubits and 3 classical bits\n",
    "        alice_basis = random.choice([0, 1])\n",
    "        bob_basis = random.choice([0, 1])\n",
    "\n",
    "        if alice_basis == 1:\n",
    "            qc.h(0)  # Alice applies Hadamard\n",
    "\n",
    "        if alice_basis == 1:\n",
    "            qc.h(0)  # Eve measures in Hadamard basis if Alice did\n",
    "\n",
    "        qc.measure(0, 2)  # Eve measures Alice's qubit\n",
    "        \n",
    "        if bob_basis == 1:\n",
    "            qc.h(1)  # Bob applies Hadamard\n",
    "\n",
    "        qc.measure(1, 1)  # Measure Bob's qubit\n",
    "        qc.measure(0, 0)  # Measure Alice's qubit\n",
    "\n",
    "        counts = simulate_circuit(qc)\n",
    "\n",
    "        for state, count in counts.items():\n",
    "            if state in total_counts:\n",
    "                total_counts[state] += count\n",
    "            else:\n",
    "                total_counts[state] = count\n",
    "\n",
    "    print(\"Aggregated Measurement results:\", total_counts)\n",
    "    print(\"Example of runs completed:\", num_runs)\n",
    "\n",
    "    plot_results_seaborn(total_counts)\n",
    "\n",
    "# Run the QKD protocol simulation with multiple runs\n",
    "qkd_protocol_with_eavesdropping(num_runs=50)"
   ]
  },
  {
   "cell_type": "markdown",
   "id": "b238f4fa-04b9-4c80-b72f-8047f1a6d0ad",
   "metadata": {},
   "source": [
    "Analyzing the Results"
   ]
  },
  {
   "cell_type": "code",
   "execution_count": 61,
   "id": "fc2f03f8-5196-44a4-ba71-2ee556db2b6d",
   "metadata": {},
   "outputs": [
    {
     "name": "stdout",
     "output_type": "stream",
     "text": [
      "Total measurements: 51700\n",
      "Error count: 500\n",
      "Error rate: 0.009671179883945842\n"
     ]
    },
    {
     "data": {
      "image/png": "[encoded data removed]",
      "text/plain": [
       "<Figure size 640x480 with 1 Axes>"
      ]
     },
     "metadata": {},
     "output_type": "display_data"
    }
   ],
   "source": [
    "import matplotlib.pyplot as plt\n",
    "import numpy as np\n",
    "\n",
    "def analyze_results(total_counts):\n",
    "    \"\"\"Function to analyze the aggregated measurement results.\"\"\"\n",
    "    # Calculate total measurements\n",
    "    total_measurements = sum(total_counts.values())\n",
    "\n",
    "    # Calculate error rates\n",
    "    error_count = total_counts.get('110', 0)  # Assuming '110' indicates an error state\n",
    "    error_rate = error_count / total_measurements if total_measurements > 0 else 0\n",
    "\n",
    "    print(\"Total measurements:\", total_measurements)\n",
    "    print(\"Error count:\", error_count)\n",
    "    print(\"Error rate:\", error_rate)\n",
    "\n",
    "    return error_rate\n",
    "\n",
    "def plot_histogram(counts):\n",
    "    \"\"\"Function to plot histogram of measurement results.\"\"\"\n",
    "    states = list(counts.keys())\n",
    "    values = list(counts.values())\n",
    "    \n",
    "    plt.bar(states, values, color='skyblue')\n",
    "    plt.xlabel('States')\n",
    "    plt.ylabel('Counts')\n",
    "    plt.title('Measurement Results Histogram')\n",
    "    plt.xticks(rotation=45)\n",
    "    plt.grid(axis='y')\n",
    "    plt.show()\n",
    "\n",
    "# Main analysis function\n",
    "def main_analysis(total_counts):\n",
    "    # Analyze results\n",
    "    error_rate = analyze_results(total_counts)\n",
    "\n",
    "    # Plot results\n",
    "    plot_histogram(total_counts)\n",
    "\n",
    "# Example aggregated measurement results from your QKD protocol\n",
    "total_counts = {'000': 38814, '010': 12386, '110': 500}  # Add your actual counts here\n",
    "\n",
    "# Call the main analysis\n",
    "main_analysis(total_counts)"
   ]
  },
  {
   "cell_type": "code",
   "execution_count": 62,
   "id": "d3307dd6-c8ee-42af-867a-fdc5fd7a54fb",
   "metadata": {},
   "outputs": [
    {
     "name": "stdout",
     "output_type": "stream",
     "text": [
      "Estimated secure key rate: 0.7507543520309478\n"
     ]
    }
   ],
   "source": [
    "def estimate_secure_key_rate(total_counts):\n",
    "    total_measurements = sum(total_counts.values())\n",
    "    key_states = total_counts.get('000', 0)  # Count of valid key states\n",
    "    secure_key_rate = key_states / total_measurements if total_measurements > 0 else 0\n",
    "    \n",
    "    print(\"Estimated secure key rate:\", secure_key_rate)\n",
    "    return secure_key_rate\n",
    "\n",
    "secure_key_rate = estimate_secure_key_rate(total_counts)"
   ]
  },
  {
   "cell_type": "code",
   "execution_count": 63,
   "id": "fb4ec5a1-4dab-4a49-a92b-ed121a56c2c3",
   "metadata": {},
   "outputs": [
    {
     "name": "stdout",
     "output_type": "stream",
     "text": [
      "Simulated eavesdropping results: {'000': 31051.2, '010': 9908.800000000001, '110': 400.0}\n"
     ]
    }
   ],
   "source": [
    "def simulate_eavesdropping_attack(total_counts):\n",
    "    # Simulate an eavesdropping scenario and analyze results\n",
    "    # For example, you might alter the counts to simulate Eve's interception\n",
    "    eavesdropped_counts = {state: count * 0.8 for state, count in total_counts.items()}  # Example adjustment\n",
    "    print(\"Simulated eavesdropping results:\", eavesdropped_counts)\n",
    "    return eavesdropped_counts\n",
    "\n",
    "simulated_counts = simulate_eavesdropping_attack(total_counts)"
   ]
  },
  {
   "cell_type": "code",
   "execution_count": 64,
   "id": "22e83498-b395-40d5-8fd4-89c10681b4d8",
   "metadata": {},
   "outputs": [
    {
     "name": "stdout",
     "output_type": "stream",
     "text": [
      "Final key distribution: {'000': 38814}\n"
     ]
    }
   ],
   "source": [
    "def finalize_key_distribution(total_counts):\n",
    "    # Example implementation for finalizing key distribution\n",
    "    key_distribution = {state: count for state, count in total_counts.items() if is_valid_key(state)}\n",
    "    print(\"Final key distribution:\", key_distribution)\n",
    "    return key_distribution\n",
    "\n",
    "def is_valid_key(state):\n",
    "    # Define criteria for valid keys (e.g., certain states might be valid)\n",
    "    return state in ['000', '111']  # Example valid key states\n",
    "\n",
    "final_keys = finalize_key_distribution(total_counts)"
   ]
  },
  {
   "cell_type": "markdown",
   "id": "af45a0a6-ab7f-4309-a4d0-484a732473b1",
   "metadata": {},
   "source": [
    "Key utilization"
   ]
  },
  {
   "cell_type": "code",
   "execution_count": 89,
   "id": "1f03689e-c18a-4ef1-bb93-b894de4a7cc3",
   "metadata": {},
   "outputs": [
    {
     "name": "stdout",
     "output_type": "stream",
     "text": [
      "Channels:\n",
      " - defaults\n",
      "Platform: osx-arm64\n",
      "Collecting package metadata (repodata.json): done\n",
      "Solving environment: done\n",
      "\n",
      "## Package Plan ##\n",
      "\n",
      "  environment location: /opt/anaconda3/envs/qkd_env\n",
      "\n",
      "  added / updated specs:\n",
      "    - pycryptodome\n",
      "\n",
      "\n",
      "The following packages will be downloaded:\n",
      "\n",
      "    package                    |            build\n",
      "    ---------------------------|-----------------\n",
      "    gmp-6.2.1                  |       hc377ac9_3         437 KB\n",
      "    pycryptodome-3.20.0        |   py39hf167f5b_0         1.6 MB\n",
      "    ------------------------------------------------------------\n",
      "                                           Total:         2.0 MB\n",
      "\n",
      "The following NEW packages will be INSTALLED:\n",
      "\n",
      "  gmp                pkgs/main/osx-arm64::gmp-6.2.1-hc377ac9_3 \n",
      "  pycryptodome       pkgs/main/osx-arm64::pycryptodome-3.20.0-py39hf167f5b_0 \n",
      "\n",
      "\n",
      "\n",
      "Downloading and Extracting Packages:\n",
      "pycryptodome-3.20.0  | 1.6 MB    |                                       |   0% \n",
      "pycryptodome-3.20.0  | 1.6 MB    | ###############################3      |  85% \u001b[A\n",
      "pycryptodome-3.20.0  | 1.6 MB    | ##################################### | 100% \u001b[A\n",
      "gmp-6.2.1            | 437 KB    | #####4                                |  15% \u001b[A\n",
      "gmp-6.2.1            | 437 KB    | ############1                         |  33% \u001b[A\n",
      "gmp-6.2.1            | 437 KB    | #################6                    |  48% \u001b[A\n",
      "gmp-6.2.1            | 437 KB    | ############################4         |  77% \u001b[A\n",
      "                                                                                \u001b[A\n",
      "                                                                                \u001b[A\n",
      "Preparing transaction: done\n",
      "Verifying transaction: done\n",
      "Executing transaction: done\n",
      "\n",
      "Note: you may need to restart the kernel to use updated packages.\n"
     ]
    }
   ],
   "source": [
    "conda install pycryptodome"
   ]
  },
  {
   "cell_type": "code",
   "execution_count": null,
   "id": "95a183e9-8e2d-40c7-b8b5-62ce328cdc2f",
   "metadata": {},
   "outputs": [],
   "source": []
  },
  {
   "cell_type": "code",
   "execution_count": null,
   "id": "94ee7cdc-5c48-4b0f-9b74-75fe804437cc",
   "metadata": {},
   "outputs": [],
   "source": []
  },
  {
   "cell_type": "code",
   "execution_count": 14,
   "id": "c9e8fbcc-46ec-42f2-a683-25eede9e8448",
   "metadata": {},
   "outputs": [
    {
     "name": "stdout",
     "output_type": "stream",
     "text": [
      "Channels:\n",
      " - defaults\n",
      "Platform: osx-arm64\n",
      "Collecting package metadata (repodata.json): done\n",
      "Solving environment: done\n",
      "\n",
      "# All requested packages already installed.\n",
      "\n",
      "\n",
      "Note: you may need to restart the kernel to use updated packages.\n"
     ]
    }
   ],
   "source": [
    "conda install pycryptodome"
   ]
  },
  {
   "cell_type": "code",
   "execution_count": 4,
   "id": "326c68d7-e1bf-408a-b7de-67db994d945c",
   "metadata": {},
   "outputs": [
    {
     "name": "stdout",
     "output_type": "stream",
     "text": [
      "Found existing installation: pycrypto 2.6.1\n",
      "Uninstalling pycrypto-2.6.1:\n",
      "  Successfully uninstalled pycrypto-2.6.1\n",
      "Found existing installation: crypto 1.4.1\n",
      "Uninstalling crypto-1.4.1:\n",
      "  Successfully uninstalled crypto-1.4.1\n"
     ]
    }
   ],
   "source": [
    "!pip uninstall pycrypto -y\n",
    "!pip uninstall crypto -y\n"
   ]
  },
  {
   "cell_type": "code",
   "execution_count": 13,
   "id": "b9c1d707-2e92-40e9-a99e-7e71272503f0",
   "metadata": {},
   "outputs": [
    {
     "name": "stdout",
     "output_type": "stream",
     "text": [
      "Found existing installation: pycryptodome 3.20.0\n",
      "Uninstalling pycryptodome-3.20.0:\n",
      "  Successfully uninstalled pycryptodome-3.20.0\n"
     ]
    }
   ],
   "source": [
    "!pip uninstall pycryptodome -y"
   ]
  },
  {
   "cell_type": "code",
   "execution_count": 16,
   "id": "48f539f8-3abf-4397-b8f3-239d9be0f11d",
   "metadata": {},
   "outputs": [
    {
     "name": "stdout",
     "output_type": "stream",
     "text": [
      "Requirement already satisfied: pycryptodome in /opt/anaconda3/envs/qkd_env/lib/python3.9/site-packages (3.21.0)\n"
     ]
    }
   ],
   "source": [
    "!pip3 install pycryptodome"
   ]
  },
  {
   "cell_type": "code",
   "execution_count": null,
   "id": "94ec3c08-3d40-4e32-a639-cf6bf53cb0fc",
   "metadata": {},
   "outputs": [],
   "source": [
    "!pip list"
   ]
  },
  {
   "cell_type": "code",
   "execution_count": 20,
   "id": "508f4606-c377-4ead-84ea-fb878dde6adc",
   "metadata": {},
   "outputs": [
    {
     "name": "stdout",
     "output_type": "stream",
     "text": [
      "\u001b[33mWARNING: Skipping crypto as it is not installed.\u001b[0m\u001b[33m\n",
      "\u001b[0mFound existing installation: pycryptodome 3.21.0\n",
      "Uninstalling pycryptodome-3.21.0:\n",
      "  Successfully uninstalled pycryptodome-3.21.0\n",
      "Collecting pycryptodome\n",
      "  Using cached pycryptodome-3.21.0-cp36-abi3-macosx_10_9_universal2.whl.metadata (3.4 kB)\n",
      "Using cached pycryptodome-3.21.0-cp36-abi3-macosx_10_9_universal2.whl (2.5 MB)\n",
      "Installing collected packages: pycryptodome\n",
      "Successfully installed pycryptodome-3.21.0\n"
     ]
    }
   ],
   "source": [
    "!pip uninstall crypto -y\n",
    "!pip uninstall pycryptodome -y\n",
    "!pip install pycryptodome"
   ]
  },
  {
   "cell_type": "code",
   "execution_count": 23,
   "id": "961ec5b3-3df5-4414-8407-f3563b30c443",
   "metadata": {},
   "outputs": [
    {
     "name": "stdout",
     "output_type": "stream",
     "text": [
      "Ciphertext: b'(\\x86\\xab\\xe3WA\\xd6 O\\xd8\\xe7(\\x01\\xc2\\xd6\\xeb\\x7fa;f\\xb9\\xe7\\xa7'\n",
      "Nonce: b'\\xa3tBa\\x86&\\xe17r\\x80\\x98\\xa1-\\x0e}9'\n",
      "Tag: b'\\xdd\\x1e\\xc1\\xbd\\xc1t\\xaeY\\x89\\x8e\\x0b\\x95\\x03\\xde\\x95\\x81'\n",
      "Decrypted Message: This is the secret key.\n"
     ]
    }
   ],
   "source": [
    "from Crypto.Cipher import AES\n",
    "import os\n",
    "\n",
    "def encrypt_message(message, key):\n",
    "    # Ensure key is 16 bytes\n",
    "    key = key.ljust(16)[:16].encode()\n",
    "    cipher = AES.new(key, AES.MODE_EAX)\n",
    "    ciphertext, tag = cipher.encrypt_and_digest(message.encode())\n",
    "    return ciphertext, cipher.nonce, tag\n",
    "\n",
    "def decrypt_message(ciphertext, nonce, tag, key):\n",
    "    key = key.ljust(16)[:16].encode()\n",
    "    cipher = AES.new(key, AES.MODE_EAX, nonce=nonce)\n",
    "    decrypted_message = cipher.decrypt_and_verify(ciphertext, tag)\n",
    "    return decrypted_message.decode()\n",
    "\n",
    "# Example usage\n",
    "final_key = \"supersecretkey\"  # This is your final key\n",
    "message = \"This is the secret key.\"\n",
    "\n",
    "# Encrypting the message\n",
    "ciphertext, nonce, tag = encrypt_message(message, final_key)\n",
    "print(\"Ciphertext:\", ciphertext)\n",
    "print(\"Nonce:\", nonce)\n",
    "print(\"Tag:\", tag)\n",
    "\n",
    "# Decrypting the message\n",
    "decrypted_message = decrypt_message(ciphertext, nonce, tag, final_key)\n",
    "print(\"Decrypted Message:\", decrypted_message)"
   ]
  },
  {
   "cell_type": "code",
   "execution_count": 24,
   "id": "c9be908a-6878-4488-a446-5a014d2549ea",
   "metadata": {},
   "outputs": [
    {
     "name": "stdout",
     "output_type": "stream",
     "text": [
      "Decrypted Message: This is the secret key.\n"
     ]
    }
   ],
   "source": [
    "def decrypt_message(ciphertext, nonce, tag, key):\n",
    "    key = key.ljust(16)[:16].encode()  # Ensure key is 16 bytes\n",
    "    cipher = AES.new(key, AES.MODE_EAX, nonce=nonce)\n",
    "    decrypted_message = cipher.decrypt_and_verify(ciphertext, tag)\n",
    "    return decrypted_message.decode()\n",
    "\n",
    "# Example usage\n",
    "decrypted_message = decrypt_message(ciphertext, nonce, tag, final_key)\n",
    "print(\"Decrypted Message:\", decrypted_message)"
   ]
  },
  {
   "cell_type": "code",
   "execution_count": 26,
   "id": "e7ca6823-7db1-47aa-ae41-7925218bd2ed",
   "metadata": {},
   "outputs": [
    {
     "name": "stdout",
     "output_type": "stream",
     "text": [
      "Decrypted Message: This is the secret key.\n",
      "Message verification successful.\n",
      "Message is valid and ready for further processing.\n"
     ]
    }
   ],
   "source": [
    "def verify_decrypted_message(decrypted_message):\n",
    "    \"\"\"Function to verify the integrity and expected format of the decrypted message.\"\"\"\n",
    "    # Example: Print the message to verify content manually (only for testing)\n",
    "    print(\"Decrypted Message:\", decrypted_message)\n",
    "    \n",
    "    # Check for expected keywords, length, or format\n",
    "    # Replace with actual expected content based on protocol requirements\n",
    "    if decrypted_message.startswith(\"This\") and len(decrypted_message) > 10:\n",
    "        print(\"Message verification successful.\")\n",
    "        return True\n",
    "    else:\n",
    "        print(\"Message verification failed.\")\n",
    "        return False\n",
    "\n",
    "# Example usage of verification\n",
    "decrypted_message = decrypt_message(ciphertext, nonce, tag, final_key)\n",
    "if verify_decrypted_message(decrypted_message):\n",
    "    print(\"Message is valid and ready for further processing.\")\n",
    "else:\n",
    "    print(\"Decrypted message did not pass integrity checks.\")"
   ]
  },
  {
   "cell_type": "code",
   "execution_count": 27,
   "id": "f629bb2f-6350-46eb-93de-44151b95d16e",
   "metadata": {},
   "outputs": [
    {
     "name": "stdout",
     "output_type": "stream",
     "text": [
      "Decrypted message stored securely.\n"
     ]
    }
   ],
   "source": [
    "def store_decrypted_message_securely(decrypted_message, file_path=\"secure_message_store.txt\"):\n",
    "    with open(file_path, \"a\") as file:\n",
    "        file.write(decrypted_message + \"\\n\")\n",
    "    print(\"Decrypted message stored securely.\")\n",
    "\n",
    "# Usage\n",
    "store_decrypted_message_securely(decrypted_message)"
   ]
  },
  {
   "cell_type": "code",
   "execution_count": 28,
   "id": "8a13fdc0-107e-464b-a02c-85f06d162f72",
   "metadata": {},
   "outputs": [
    {
     "name": "stdout",
     "output_type": "stream",
     "text": [
      "Encrypted message using session key: b'\\x106\\xf7\\xfd\\x95;H`wG\\x82\\xb4\\xdc\\xf3\\xd6\\x83\\xe3>\\xd2+-\\xa0t\\xa0h'\n"
     ]
    }
   ],
   "source": [
    "from Crypto.Cipher import AES\n",
    "from Crypto.Random import get_random_bytes\n",
    "\n",
    "def encrypt_with_session_key(session_key, message):\n",
    "    # Ensure session key is 16 bytes for AES\n",
    "    session_key = session_key.ljust(16)[:16].encode()\n",
    "    cipher = AES.new(session_key, AES.MODE_EAX)\n",
    "    nonce = cipher.nonce\n",
    "    ciphertext, tag = cipher.encrypt_and_digest(message.encode())\n",
    "    return ciphertext, nonce, tag\n",
    "\n",
    "# Example usage with decrypted session key\n",
    "message = \"This is a secure message.\"\n",
    "ciphertext, nonce, tag = encrypt_with_session_key(decrypted_message, message)\n",
    "print(\"Encrypted message using session key:\", ciphertext)"
   ]
  },
  {
   "cell_type": "code",
   "execution_count": 29,
   "id": "8c689514-1063-4ba5-9c30-66679a434965",
   "metadata": {},
   "outputs": [
    {
     "name": "stdout",
     "output_type": "stream",
     "text": [
      "Sample Match Ratio: 100.00%\n",
      "Key consistency verified.\n"
     ]
    }
   ],
   "source": [
    "import random\n",
    "\n",
    "def compare_sample_bits(alice_key, bob_key, sample_size=10):\n",
    "    # Randomly select sample positions\n",
    "    key_length = min(len(alice_key), len(bob_key))\n",
    "    sample_indices = random.sample(range(key_length), sample_size)\n",
    "    \n",
    "    # Compare sample bits\n",
    "    matches = 0\n",
    "    for i in sample_indices:\n",
    "        if alice_key[i] == bob_key[i]:\n",
    "            matches += 1\n",
    "\n",
    "    match_ratio = matches / sample_size\n",
    "    print(f\"Sample Match Ratio: {match_ratio * 100:.2f}%\")\n",
    "\n",
    "    # Verify if match ratio is within acceptable range (e.g., above 90%)\n",
    "    if match_ratio >= 0.9:\n",
    "        print(\"Key consistency verified.\")\n",
    "    else:\n",
    "        print(\"Inconsistency detected. Key discarded.\")\n",
    "    \n",
    "    return match_ratio >= 0.9  # Return True if keys are consistent\n",
    "\n",
    "# Example usage with session keys (assuming these are bit strings)\n",
    "alice_key = '11001010101100101010'  # Example bitstring\n",
    "bob_key = '11001010101100101010'    # Example matching bitstring\n",
    "\n",
    "# Run the comparison\n",
    "key_is_consistent = compare_sample_bits(alice_key, bob_key)"
   ]
  },
  {
   "cell_type": "code",
   "execution_count": 30,
   "id": "8ac631b3-b8af-4d74-ac2c-4291da124175",
   "metadata": {},
   "outputs": [
    {
     "name": "stdout",
     "output_type": "stream",
     "text": [
      "Decrypted Message: This is a secure message.\n"
     ]
    }
   ],
   "source": [
    "from Crypto.Cipher import AES\n",
    "from Crypto.Random import get_random_bytes\n",
    "import base64\n",
    "\n",
    "def encrypt_message(message, key):\n",
    "    # Ensure the key is 16 bytes (128-bit) for AES\n",
    "    key = key.ljust(16)[:16].encode()\n",
    "    \n",
    "    # Generate a nonce for AES encryption\n",
    "    cipher = AES.new(key, AES.MODE_EAX)\n",
    "    nonce = cipher.nonce\n",
    "    \n",
    "    # Encrypt the message\n",
    "    ciphertext, tag = cipher.encrypt_and_digest(message.encode())\n",
    "    \n",
    "    # Return encoded values\n",
    "    return base64.b64encode(ciphertext).decode(), nonce, tag\n",
    "\n",
    "def decrypt_message(ciphertext, nonce, tag, key):\n",
    "    # Ensure the key is 16 bytes (128-bit)\n",
    "    key = key.ljust(16)[:16].encode()\n",
    "    \n",
    "    # Decrypt the message\n",
    "    cipher = AES.new(key, AES.MODE_EAX, nonce=nonce)\n",
    "    decrypted_message = cipher.decrypt_and_verify(base64.b64decode(ciphertext), tag)\n",
    "    \n",
    "    return decrypted_message.decode()\n",
    "\n",
    "# Example usage\n",
    "message = \"This is a secure message.\"\n",
    "ciphertext, nonce, tag = encrypt_message(message, final_key)\n",
    "\n",
    "# Decrypt on the receiver's end\n",
    "decrypted_message = decrypt_message(ciphertext, nonce, tag, final_key)\n",
    "print(\"Decrypted Message:\", decrypted_message)"
   ]
  },
  {
   "cell_type": "code",
   "execution_count": null,
   "id": "e403c0ad-0329-42cd-8323-7f8844a3a980",
   "metadata": {},
   "outputs": [],
   "source": []
  }
 ],
 "metadata": {
  "kernelspec": {
   "display_name": "Python (qkd_env)",
   "language": "python",
   "name": "qkd_env"
  },
  "language_info": {
   "codemirror_mode": {
    "name": "ipython",
    "version": 3
   },
   "file_extension": ".py",
   "mimetype": "text/x-python",
   "name": "python",
   "nbconvert_exporter": "python",
   "pygments_lexer": "ipython3",
   "version": "3.9.20"
  }
 },
 "nbformat": 4,
 "nbformat_minor": 5
}
